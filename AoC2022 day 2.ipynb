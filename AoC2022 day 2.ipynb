{
 "cells": [
  {
   "cell_type": "markdown",
   "metadata": {},
   "source": [
    "# Dirty cheatin' elf\n",
    "This really isn't in the christmas spirit"
   ]
  },
  {
   "cell_type": "code",
   "execution_count": 1,
   "metadata": {},
   "outputs": [
    {
     "data": {
      "text/plain": [
       "2500-element Vector{Vector{SubString{String}}}:\n",
       " [\"B\", \"Z\"]\n",
       " [\"A\", \"X\"]\n",
       " [\"C\", \"X\"]\n",
       " [\"C\", \"X\"]\n",
       " [\"C\", \"Z\"]\n",
       " [\"C\", \"X\"]\n",
       " [\"C\", \"X\"]\n",
       " [\"A\", \"Z\"]\n",
       " [\"C\", \"X\"]\n",
       " [\"B\", \"Z\"]\n",
       " ⋮\n",
       " [\"B\", \"Y\"]\n",
       " [\"A\", \"Y\"]\n",
       " [\"C\", \"X\"]\n",
       " [\"A\", \"Z\"]\n",
       " [\"C\", \"X\"]\n",
       " [\"C\", \"X\"]\n",
       " [\"C\", \"X\"]\n",
       " [\"C\", \"X\"]\n",
       " [\"C\", \"X\"]"
      ]
     },
     "metadata": {},
     "output_type": "display_data"
    }
   ],
   "source": [
    "strategy = split.(split(chomp(read(\"D:/Career/Julia/AoC2022/inputs/input day 2.txt\",String)),\"\\r\\n\"),\" \")"
   ]
  },
  {
   "cell_type": "code",
   "execution_count": 2,
   "metadata": {},
   "outputs": [
    {
     "data": {
      "text/plain": [
       "Dict{String, Dict{String, Int64}} with 3 entries:\n",
       "  \"Scisors\" => Dict(\"Scisors\"=>3, \"Rock\"=>6, \"Paper\"=>0)\n",
       "  \"Rock\"    => Dict(\"Scisors\"=>0, \"Rock\"=>3, \"Paper\"=>6)\n",
       "  \"Paper\"   => Dict(\"Scisors\"=>6, \"Rock\"=>0, \"Paper\"=>3)"
      ]
     },
     "metadata": {},
     "output_type": "display_data"
    }
   ],
   "source": [
    "map = Dict([(\"A\", \"Rock\"), (\"B\", \"Paper\"),(\"C\",\"Scisors\"),(\"X\", \"Rock\"), (\"Y\", \"Paper\"),(\"Z\",\"Scisors\")])\n",
    "rock = Dict([(\"Rock\",3),(\"Paper\",6),(\"Scisors\",0)])\n",
    "paper = Dict([(\"Rock\",0),(\"Paper\",3),(\"Scisors\",6)])\n",
    "scisors = Dict([(\"Rock\",6),(\"Paper\",0),(\"Scisors\",3)])\n",
    "implement_value = Dict([(\"Rock\",1),(\"Paper\",2),(\"Scisors\",3)])\n",
    "scores = Dict([(\"Rock\",rock), (\"Paper\",paper),(\"Scisors\",scisors)])"
   ]
  },
  {
   "cell_type": "code",
   "execution_count": 3,
   "metadata": {},
   "outputs": [
    {
     "data": {
      "text/plain": [
       "result (generic function with 1 method)"
      ]
     },
     "metadata": {},
     "output_type": "display_data"
    }
   ],
   "source": [
    "function result(element)\n",
    "    a,b = element\n",
    "    as = map[a]\n",
    "    bs = map[b]\n",
    "    return scores[as][bs]+implement_value[bs]\n",
    "end"
   ]
  },
  {
   "cell_type": "code",
   "execution_count": 4,
   "metadata": {},
   "outputs": [
    {
     "name": "stdout",
     "output_type": "stream",
     "text": [
      "14297"
     ]
    }
   ],
   "source": [
    "final_score = 0\n",
    "for s in strategy\n",
    "    final_score += result(s)\n",
    "end\n",
    "print(final_score)\n"
   ]
  },
  {
   "cell_type": "markdown",
   "metadata": {},
   "source": [
    "# Part 2\n",
    "The elf needs comunications lessons"
   ]
  },
  {
   "cell_type": "code",
   "execution_count": 5,
   "metadata": {},
   "outputs": [
    {
     "data": {
      "text/plain": [
       "Dict{String, Dict{String, String}} with 3 entries:\n",
       "  \"Scisors\" => Dict(\"lose\"=>\"Paper\", \"win\"=>\"Rock\", \"draw\"=>\"Scisors\")\n",
       "  \"Rock\"    => Dict(\"lose\"=>\"Scisors\", \"win\"=>\"Paper\", \"draw\"=>\"Rock\")\n",
       "  \"Paper\"   => Dict(\"lose\"=>\"Rock\", \"win\"=>\"Scisors\", \"draw\"=>\"Paper\")"
      ]
     },
     "metadata": {},
     "output_type": "display_data"
    }
   ],
   "source": [
    "map_out = Dict([(\"A\", \"Rock\"), (\"B\", \"Paper\"),(\"C\",\"Scisors\"),(\"X\", \"lose\"), (\"Y\", \"draw\"),(\"Z\",\"win\")])\n",
    "rock_out  = Dict([(\"lose\",\"Scisors\"),(\"draw\",\"Rock\"),(\"win\",\"Paper\")])\n",
    "paper_out  = Dict([(\"lose\",\"Rock\"),(\"draw\",\"Paper\"),(\"win\",\"Scisors\")])\n",
    "scisors_out  = Dict([(\"lose\",\"Paper\"),(\"draw\",\"Scisors\"),(\"win\",\"Rock\")])\n",
    "scores_out = Dict([(\"Rock\",rock_out), (\"Paper\",paper_out),(\"Scisors\",scisors_out)])"
   ]
  },
  {
   "cell_type": "code",
   "execution_count": 6,
   "metadata": {},
   "outputs": [
    {
     "data": {
      "text/plain": [
       "result_out (generic function with 1 method)"
      ]
     },
     "metadata": {},
     "output_type": "display_data"
    }
   ],
   "source": [
    "function result_out(element)\n",
    "    a,b = element\n",
    "    as = map[a]\n",
    "    bo = map_out[b]\n",
    "    bs = scores_out[as][bo]\n",
    "    return scores[as][bs]+implement_value[bs]\n",
    "end"
   ]
  },
  {
   "cell_type": "code",
   "execution_count": 7,
   "metadata": {},
   "outputs": [
    {
     "name": "stdout",
     "output_type": "stream",
     "text": [
      "10498"
     ]
    }
   ],
   "source": [
    "final_score = 0\n",
    "for s in strategy\n",
    "    final_score += result_out(s)\n",
    "end\n",
    "print(final_score)"
   ]
  }
 ],
 "metadata": {
  "kernelspec": {
   "display_name": "Julia 1.8.3",
   "language": "julia",
   "name": "julia-1.8"
  },
  "language_info": {
   "file_extension": ".jl",
   "mimetype": "application/julia",
   "name": "julia",
   "version": "1.8.3"
  },
  "orig_nbformat": 4,
  "vscode": {
   "interpreter": {
    "hash": "fe766dce6e13e3157ced84291894c3162434b73bae4080e51d655f5ab5b4341e"
   }
  }
 },
 "nbformat": 4,
 "nbformat_minor": 2
}
