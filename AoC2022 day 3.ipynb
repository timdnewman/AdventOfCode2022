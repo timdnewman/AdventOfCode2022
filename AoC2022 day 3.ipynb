{
 "cells": [
  {
   "cell_type": "code",
   "execution_count": 5,
   "metadata": {},
   "outputs": [
    {
     "data": {
      "text/plain": [
       "300-element Vector{SubString{String}}:\n",
       " \"hDsDDttbhsmshNNWMNWGbTNqZq\"\n",
       " \"VQfjnlFvnQFRdZWdVtqMGdWW\"\n",
       " \"zvvvRnFFfjjlRBlBPzgQgRvvmtrmhHcptLHCDhcHHmLsBmsB\"\n",
       " \"FrzFvvdTDcTnmTzdDTTzdvWmjhgVPrhSljSQSPwPjPjPjSVC\"\n",
       " \"sMsGbqGsbbRqRbBMBGRMbLpNSSpjhlQljHVClhjgPjjPhlVp\"\n",
       " \"sNbGtJbMfssNtvcnWFVmnvDd\"\n",
       " \"TNfmdFJmfdZMQffVRQVV\"\n",
       " \"jVHBCcDSjWrMZjvg\"\n",
       " \"SShSbCGpcBtBtwtVLJJddmtLmT\"\n",
       " \"CtpNftbNWbtSJDHqGZJFLfLr\"\n",
       " ⋮\n",
       " \"fWGcQGGSRFQZhttZJfSSJflDDrwdClljVrNDdrdCFBCr\"\n",
       " \"MTgvLLPPnHzMbDwdlNbMBwMM\"\n",
       " \"mnTvnnPTcNmmJJWN\"\n",
       " \"qqbbQQnbWrqGgnWqvZpVzMCZjCgfjZCSVM\"\n",
       " \"ldcmDPDhmlFBHPDddLBVFDHLppZpjSCjjNfwNMwCpSMwhCMp\"\n",
       " \"FtDdsHPcHmdHVPLtHsdtBHQnsbvnTRRTRsRRqbqvqWnJ\"\n",
       " \"hhtBtPrgbbhhgjZjjCCHHNpNDHpffHWCvr\"\n",
       " \"LGFLVwswsJMSgFwMMpddSvpHCCdDdvCpvm\"\n",
       " \"sGsFsQLsVsLFnnFTJQthjcjQqhRcBZZtRg\""
      ]
     },
     "metadata": {},
     "output_type": "display_data"
    }
   ],
   "source": [
    "pack_contents = split(chomp(read(\"D:/Career/Julia/AoC2022/inputs/input day 3.txt\",String)),\"\\n\")"
   ]
  },
  {
   "cell_type": "code",
   "execution_count": 15,
   "metadata": {},
   "outputs": [
    {
     "data": {
      "text/plain": [
       "get_dup (generic function with 1 method)"
      ]
     },
     "metadata": {},
     "output_type": "display_data"
    }
   ],
   "source": [
    "function get_dup(pack)\n",
    "    l=Int64(length(pack)/2)\n",
    "    s1 = pack[1:l]\n",
    "    s2 = pack[1+l:length(pack)]\n",
    "    for item in s1\n",
    "        if item in s2\n",
    "            return item\n",
    "        end\n",
    "    end\n",
    "    return \"\"\n",
    "end"
   ]
  },
  {
   "cell_type": "code",
   "execution_count": 18,
   "metadata": {},
   "outputs": [
    {
     "name": "stdout",
     "output_type": "stream",
     "text": [
      "7821"
     ]
    }
   ],
   "source": [
    "priotity_sum = 0\n",
    "for pack in pack_contents\n",
    "    d = get_dup(pack)\n",
    "    if islowercase(d)\n",
    "        priotity_sum += Int64(d)-96\n",
    "    else\n",
    "        priotity_sum += Int64(d)-38\n",
    "    end\n",
    "end\n",
    "print(priotity_sum)"
   ]
  },
  {
   "cell_type": "markdown",
   "metadata": {},
   "source": [
    "# Get badges\n",
    " "
   ]
  },
  {
   "cell_type": "code",
   "execution_count": 19,
   "metadata": {},
   "outputs": [
    {
     "data": {
      "text/plain": [
       "get_badge (generic function with 1 method)"
      ]
     },
     "metadata": {},
     "output_type": "display_data"
    }
   ],
   "source": [
    "function get_badge(group)\n",
    "    x,y,z  = group\n",
    "    l1 = [c for c in x if c in y]\n",
    "    l2 = [c for c in l1 if c in z]\n",
    "    return l2[1]    \n",
    "end"
   ]
  },
  {
   "cell_type": "code",
   "execution_count": 22,
   "metadata": {},
   "outputs": [
    {
     "name": "stdout",
     "output_type": "stream",
     "text": [
      "2752"
     ]
    }
   ],
   "source": [
    "\n",
    "priotity_sum = 0\n",
    "for group in Iterators.partition(pack_contents,3)\n",
    "    d = get_badge(group)\n",
    "    if islowercase(d)\n",
    "        priotity_sum += (Int64(d)-96)\n",
    "    else\n",
    "        priotity_sum += (Int64(d)-38)\n",
    "    end\n",
    "end\n",
    "print(priotity_sum)"
   ]
  }
 ],
 "metadata": {
  "kernelspec": {
   "display_name": "Python 3.7.4 ('base')",
   "language": "python",
   "name": "python3"
  },
  "language_info": {
   "file_extension": ".jl",
   "mimetype": "application/julia",
   "name": "python",
   "version": "3.7.4"
  },
  "orig_nbformat": 4,
  "vscode": {
   "interpreter": {
    "hash": "e7838ca6d1ad86fe9d8e374514c1df34510cfd172374357265c1cd2e436cfee7"
   }
  }
 },
 "nbformat": 4,
 "nbformat_minor": 2
}
