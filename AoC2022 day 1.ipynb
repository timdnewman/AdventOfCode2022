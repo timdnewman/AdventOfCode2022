{
 "cells": [
  {
   "cell_type": "code",
   "execution_count": 3,
   "metadata": {},
   "outputs": [
    {
     "name": "stdout",
     "output_type": "stream",
     "text": [
      "206104"
     ]
    }
   ],
   "source": [
    "s = read(\"D:/Career/Julia/AoC2022/input.txt\",String)\n",
    "s = split(s,\"\\n\\n\")\n",
    "allvalues = Vector{Int32}()\n",
    "no_elves = 3\n",
    "for (index, value) in enumerate(s)\n",
    "    v2 = chomp(value)\n",
    "    nums_strings = split(v2,\"\\n\")\n",
    "    push!(allvalues,sum(parse.(Int32, nums_strings)))\n",
    "end\n",
    "print(sum(sort(allvalues, rev=true)[1:no_elves]))"
   ]
  }
 ],
 "metadata": {
  "kernelspec": {
   "display_name": "Julia 1.8.3",
   "language": "julia",
   "name": "julia-1.8"
  },
  "language_info": {
   "file_extension": ".jl",
   "mimetype": "application/julia",
   "name": "julia",
   "version": "1.8.3"
  },
  "orig_nbformat": 4
 },
 "nbformat": 4,
 "nbformat_minor": 2
}
