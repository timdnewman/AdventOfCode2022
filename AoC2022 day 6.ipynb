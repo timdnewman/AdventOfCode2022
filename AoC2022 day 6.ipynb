{
 "cells": [
  {
   "cell_type": "markdown",
   "metadata": {},
   "source": [
    "# Day 6\n",
    "I'm playing catch up here"
   ]
  },
  {
   "cell_type": "code",
   "execution_count": 5,
   "metadata": {},
   "outputs": [
    {
     "data": {
      "text/plain": [
       "\"bhzhtzzsczszsjjjzddfzdfzfjfzfbbnntnzznwzzvfvrrqmrmmdzzfqfhqhsqqpwpgwpppbtbnnstthmhrrsmmvsmmhjmjfmfsfjfnfnjjvcjjszjszjsszbznzbnzndzzmlldsdgdcddmqmfqqlcllbvllztzctzczdzttlmtlthtmhtmhmmszsllvzvdzzzsqzqbqccvfvcffzsfslfsllcglclwlvwvzzdsslggtzzgzdzmzddjljvvztttsgscsstztjztjzt\" ⋯ 3555 bytes ⋯ \"bnlsbmslpfmqjtgvbddhwvlvjtlrhqdpfnjwtbhwjwdrpgctbbrdqvbbnvgqwngrhqfvwzmlqtmhfqphnmczlbdpnbmpvwrsjbcnjnvcfgnsvlhpzdgdzgvfbgwdcrswznrggnghzssdwqvvlwftqhbnwdvghhvjlqqmcnqmvbwhrrnsswlwmwbsmpcpdzzgmcmqnzpvjpzqbwcsgdhqtqhcpbtqftvscmntsbdcbrndvlfhprpblzbjcpqhfljtvnvtgvrcgqbsgl\""
      ]
     },
     "metadata": {},
     "output_type": "display_data"
    }
   ],
   "source": [
    "code_string = chomp(read(\"inputs/input day 6.txt\",String))"
   ]
  },
  {
   "cell_type": "code",
   "execution_count": 25,
   "metadata": {},
   "outputs": [
    {
     "name": "stdout",
     "output_type": "stream",
     "text": [
      "1892"
     ]
    }
   ],
   "source": [
    "for (i,c) in enumerate(code_string[4:1:end])\n",
    "    if length(Set(collect(code_string[i:i+3]))) == 4\n",
    "        print(i+3)\n",
    "        break\n",
    "    end\n",
    "end"
   ]
  },
  {
   "cell_type": "code",
   "execution_count": 26,
   "metadata": {},
   "outputs": [
    {
     "name": "stdout",
     "output_type": "stream",
     "text": [
      "2313"
     ]
    }
   ],
   "source": [
    "for (i,c) in enumerate(code_string[4:1:end])\n",
    "    if length(Set(collect(code_string[i:i+13]))) == 14\n",
    "        print(i+13)\n",
    "        break\n",
    "    end\n",
    "end"
   ]
  },
  {
   "cell_type": "markdown",
   "metadata": {},
   "source": [
    "# Day 7"
   ]
  },
  {
   "cell_type": "code",
   "execution_count": 27,
   "metadata": {},
   "outputs": [
    {
     "data": {
      "text/plain": [
       "1047-element Vector{SubString{String}}:\n",
       " \"\\$ cd /\"\n",
       " \"\\$ ls\"\n",
       " \"dir dfmhjhd\"\n",
       " \"307728 ghpqs\"\n",
       " \"dir hztjntff\"\n",
       " \"dir rvstq\"\n",
       " \"dir sjt\"\n",
       " \"120579 whhj.pqt\"\n",
       " \"dir wrmm\"\n",
       " \"\\$ cd dfmhjhd\"\n",
       " ⋮\n",
       " \"\\$ ls\"\n",
       " \"291828 hztjntff\"\n",
       " \"\\$ cd ..\"\n",
       " \"\\$ cd ..\"\n",
       " \"\\$ cd ..\"\n",
       " \"\\$ cd wrmm\"\n",
       " \"\\$ ls\"\n",
       " \"212937 frcqrdm\"\n",
       " \"153487 zjnll.zjl\""
      ]
     },
     "metadata": {},
     "output_type": "display_data"
    }
   ],
   "source": [
    "input_stream = split(chomp(read(\"inputs/input day 7.txt\",String)),\"\\n\")"
   ]
  },
  {
   "cell_type": "code",
   "execution_count": 28,
   "metadata": {},
   "outputs": [],
   "source": [
    "folders = Dict()\n",
    "for line in input_stream\n",
    "    line_elements = split(line,\" \")\n",
    "    if line_elements[1] == 'S'\n",
    "        print(\"yep\")\n",
    "        break\n",
    "    end\n",
    "end"
   ]
  },
  {
   "cell_type": "code",
   "execution_count": null,
   "metadata": {},
   "outputs": [],
   "source": []
  }
 ],
 "metadata": {
  "kernelspec": {
   "display_name": "Julia 1.8.3",
   "language": "julia",
   "name": "julia-1.8"
  },
  "language_info": {
   "file_extension": ".jl",
   "mimetype": "application/julia",
   "name": "julia",
   "version": "1.8.3"
  },
  "orig_nbformat": 4,
  "vscode": {
   "interpreter": {
    "hash": "e7838ca6d1ad86fe9d8e374514c1df34510cfd172374357265c1cd2e436cfee7"
   }
  }
 },
 "nbformat": 4,
 "nbformat_minor": 2
}
