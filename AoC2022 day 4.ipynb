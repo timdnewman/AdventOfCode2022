{
 "cells": [
  {
   "cell_type": "code",
   "execution_count": 7,
   "metadata": {},
   "outputs": [
    {
     "data": {
      "text/plain": [
       "1000-element Vector{Vector{SubString{String}}}:\n",
       " [\"23-33\", \"24-65\"]\n",
       " [\"10-24\", \"23-88\"]\n",
       " [\"71-92\", \"18-71\"]\n",
       " [\"2-2\", \"10-95\"]\n",
       " [\"24-26\", \"25-66\"]\n",
       " [\"19-93\", \"36-99\"]\n",
       " [\"12-99\", \"5-13\"]\n",
       " [\"13-88\", \"14-94\"]\n",
       " [\"4-85\", \"5-84\"]\n",
       " [\"78-88\", \"79-87\"]\n",
       " ⋮\n",
       " [\"14-88\", \"87-99\"]\n",
       " [\"47-92\", \"48-92\"]\n",
       " [\"3-97\", \"10-93\"]\n",
       " [\"9-87\", \"80-98\"]\n",
       " [\"4-96\", \"3-5\"]\n",
       " [\"89-99\", \"3-89\"]\n",
       " [\"11-65\", \"10-66\"]\n",
       " [\"4-52\", \"52-93\"]\n",
       " [\"29-31\", \"12-28\"]"
      ]
     },
     "metadata": {},
     "output_type": "display_data"
    }
   ],
   "source": [
    "assignments = split.(split(chomp(read(\"D:/Career/Julia/AoC2022/inputs/input day 4.txt\",String)),\"\\r\\n\"),\",\")"
   ]
  },
  {
   "cell_type": "code",
   "execution_count": 47,
   "metadata": {},
   "outputs": [
    {
     "data": {
      "text/plain": [
       "total_overlapping_ranges (generic function with 1 method)"
      ]
     },
     "metadata": {},
     "output_type": "display_data"
    }
   ],
   "source": [
    "function total_overlapping_ranges(pair)\n",
    "    a,b =  split.(pair,\"-\")\n",
    "    a = parse.(Int64,a)\n",
    "    b = parse.(Int64,b)\n",
    "    return  Int((a[1]<=b[1] && a[2]>=b[2]) || (b[1]<=a[1] && b[2]>=a[2]))\n",
    "end"
   ]
  },
  {
   "cell_type": "code",
   "execution_count": 48,
   "metadata": {},
   "outputs": [
    {
     "name": "stdout",
     "output_type": "stream",
     "text": [
      "595"
     ]
    }
   ],
   "source": [
    "btotal_overlaps= sum(total_overlapping_ranges.(assignments))\n",
    "\n",
    "print(total_overlaps)"
   ]
  },
  {
   "cell_type": "code",
   "execution_count": 53,
   "metadata": {},
   "outputs": [
    {
     "data": {
      "text/plain": [
       "overlapping_ranges (generic function with 1 method)"
      ]
     },
     "metadata": {},
     "output_type": "display_data"
    }
   ],
   "source": [
    "function overlapping_ranges(pair)\n",
    "    a,b =  split.(pair,\"-\")\n",
    "    a = parse.(Int64,a)\n",
    "    b = parse.(Int64,b)\n",
    "    return  Int((a[2]>=b[1]&&a[2]<=b[2]) || (b[2]>=a[1]&&b[2]<=a[2]))\n",
    "end"
   ]
  },
  {
   "cell_type": "code",
   "execution_count": 54,
   "metadata": {},
   "outputs": [
    {
     "name": "stdout",
     "output_type": "stream",
     "text": [
      "952"
     ]
    }
   ],
   "source": [
    "total_partial_overlaps= sum(overlapping_ranges.(assignments))\n",
    "\n",
    "print(total_partial_overlaps)"
   ]
  }
 ],
 "metadata": {
  "kernelspec": {
   "display_name": "Julia 1.8.3",
   "language": "julia",
   "name": "julia-1.8"
  },
  "language_info": {
   "file_extension": ".jl",
   "mimetype": "application/julia",
   "name": "julia",
   "version": "1.8.3"
  },
  "orig_nbformat": 4
 },
 "nbformat": 4,
 "nbformat_minor": 2
}
